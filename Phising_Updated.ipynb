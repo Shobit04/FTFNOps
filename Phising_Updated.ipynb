{
  "nbformat": 4,
  "nbformat_minor": 0,
  "metadata": {
    "colab": {
      "provenance": [],
      "gpuType": "T4"
    },
    "kernelspec": {
      "name": "python3",
      "display_name": "Python 3"
    },
    "language_info": {
      "name": "python"
    },
    "accelerator": "GPU"
  },
  "cells": [
    {
      "cell_type": "code",
      "execution_count": 1,
      "metadata": {
        "id": "SsFUkQa3BhA_"
      },
      "outputs": [],
      "source": [
        "import numpy as np\n",
        "import pandas as pd\n",
        "import tensorflow as tf\n",
        "from tensorflow.keras.models import Sequential\n",
        "from tensorflow.keras.layers import Dense, Embedding, LSTM, Bidirectional\n",
        "from tensorflow.keras.preprocessing.text import Tokenizer\n",
        "from tensorflow.keras.preprocessing.sequence import pad_sequences\n",
        "from sklearn.model_selection import train_test_split"
      ]
    },
    {
      "cell_type": "code",
      "source": [
        "df=pd.read_csv('/content/Phishing_site.csv')"
      ],
      "metadata": {
        "id": "Oe-ccTv3BwSI"
      },
      "execution_count": 8,
      "outputs": []
    },
    {
      "cell_type": "code",
      "source": [
        "df.shape"
      ],
      "metadata": {
        "colab": {
          "base_uri": "https://localhost:8080/"
        },
        "id": "CbxW7_ebDnkJ",
        "outputId": "dd1646e7-ba42-4380-9a6a-753069b656e1"
      },
      "execution_count": 9,
      "outputs": [
        {
          "output_type": "execute_result",
          "data": {
            "text/plain": [
              "(127723, 3)"
            ]
          },
          "metadata": {},
          "execution_count": 9
        }
      ]
    },
    {
      "cell_type": "code",
      "source": [
        "X = df['URL'].astype(str)\n",
        "y = df['label']"
      ],
      "metadata": {
        "id": "ZOZ5EcLQByyi"
      },
      "execution_count": 10,
      "outputs": []
    },
    {
      "cell_type": "code",
      "source": [
        "tokenizer = Tokenizer(num_words=10000, oov_token=\"<OOV>\")\n",
        "tokenizer.fit_on_texts(X)\n",
        "X_seq = tokenizer.texts_to_sequences(X)\n",
        "X_padded = pad_sequences(X_seq, maxlen=100)"
      ],
      "metadata": {
        "id": "ydnIZ3vNCAh5"
      },
      "execution_count": 11,
      "outputs": []
    },
    {
      "cell_type": "code",
      "source": [
        "X_train, X_test, y_train, y_test = train_test_split(X_padded, y, test_size=0.2, random_state=42)\n"
      ],
      "metadata": {
        "id": "-SzVR1CqCDZj"
      },
      "execution_count": 12,
      "outputs": []
    },
    {
      "cell_type": "code",
      "source": [
        "from keras.models import Sequential\n",
        "from keras.layers import Embedding, Bidirectional, LSTM, Dense, Dropout\n",
        "from keras.callbacks import EarlyStopping\n",
        "\n",
        "model = Sequential([\n",
        "    Embedding(input_dim=10000, output_dim=128, input_length=100),\n",
        "    Bidirectional(LSTM(64, return_sequences=True)),\n",
        "    Bidirectional(LSTM(32)),\n",
        "    Dense(64, activation='relu'),\n",
        "    Dropout(0.5),\n",
        "    Dense(1, activation='sigmoid')\n",
        "])\n",
        "\n",
        "model.compile(optimizer='adam', loss='binary_crossentropy', metrics=['accuracy'])\n",
        "early_stopping = EarlyStopping(monitor='val_loss', patience=2, restore_best_weights=True)\n",
        "model.fit(X_train, y_train, epochs=20, batch_size=64, validation_split=0.2, callbacks=[early_stopping])\n"
      ],
      "metadata": {
        "colab": {
          "base_uri": "https://localhost:8080/"
        },
        "id": "Eh6WVLhuCSuQ",
        "outputId": "3219a95c-8fac-4746-86e7-8e010aec09f6"
      },
      "execution_count": 27,
      "outputs": [
        {
          "output_type": "stream",
          "name": "stdout",
          "text": [
            "Epoch 1/20\n",
            "1278/1278 [==============================] - 52s 35ms/step - loss: 0.1248 - accuracy: 0.9491 - val_loss: 0.0813 - val_accuracy: 0.9686\n",
            "Epoch 2/20\n",
            "1278/1278 [==============================] - 27s 21ms/step - loss: 0.0676 - accuracy: 0.9739 - val_loss: 0.0714 - val_accuracy: 0.9725\n",
            "Epoch 3/20\n",
            "1278/1278 [==============================] - 29s 22ms/step - loss: 0.0539 - accuracy: 0.9784 - val_loss: 0.0696 - val_accuracy: 0.9720\n",
            "Epoch 4/20\n",
            "1278/1278 [==============================] - 30s 24ms/step - loss: 0.0456 - accuracy: 0.9823 - val_loss: 0.0708 - val_accuracy: 0.9727\n",
            "Epoch 5/20\n",
            "1278/1278 [==============================] - 27s 21ms/step - loss: 0.0406 - accuracy: 0.9837 - val_loss: 0.0784 - val_accuracy: 0.9732\n"
          ]
        },
        {
          "output_type": "execute_result",
          "data": {
            "text/plain": [
              "<keras.src.callbacks.History at 0x7ef9703792d0>"
            ]
          },
          "metadata": {},
          "execution_count": 27
        }
      ]
    },
    {
      "cell_type": "code",
      "source": [
        "from keras.preprocessing.sequence import pad_sequences\n",
        "\n",
        "def predict_url_phishing(url, tokenizer, model):\n",
        "    # Preprocess the URL\n",
        "    url_seq = tokenizer.texts_to_sequences([url])\n",
        "    url_padded = pad_sequences(url_seq, maxlen=100)\n",
        "    prediction = model.predict(url_padded)\n",
        "    if prediction > 0.5:\n",
        "        return \"Phishing Site\"\n",
        "    else:\n",
        "        return \"Not Phishing Site\"\n",
        "\n",
        "url_to_predict = \"www.financialaccounting.com/financialprof.htm\"\n",
        "prediction = predict_url_phishing(url_to_predict, tokenizer, model)\n",
        "print(prediction)\n",
        "\n"
      ],
      "metadata": {
        "colab": {
          "base_uri": "https://localhost:8080/"
        },
        "id": "j1qcK6lpGVsl",
        "outputId": "20f505fc-b094-4373-ba71-f5c3d5e17888"
      },
      "execution_count": 43,
      "outputs": [
        {
          "output_type": "stream",
          "name": "stdout",
          "text": [
            "1/1 [==============================] - 0s 24ms/step\n",
            "Phishing Site\n"
          ]
        }
      ]
    },
    {
      "cell_type": "code",
      "source": [
        "filtered_df = df[df['label'] == 1]\n",
        "phishing_urls = filtered_df['URL']\n",
        "print(phishing_urls)\n"
      ],
      "metadata": {
        "colab": {
          "base_uri": "https://localhost:8080/"
        },
        "id": "brM0fnEJHhJL",
        "outputId": "394ae2c1-acd3-4234-ed3b-ffff7bfbfd0b"
      },
      "execution_count": 36,
      "outputs": [
        {
          "output_type": "stream",
          "name": "stdout",
          "text": [
            "18231    esxcc.com/js/index.htm?us.battle.net/noghn/en/...\n",
            "18232    www\u000eeira¯&nvinip¿ncH¯wVö%ÆåyDaHðû/ÏyEùu\u0003Ë\\nÓ\u00176...\n",
            "18233    'www.institutocgr.coo/web/media/syqvem/dk-\u000fóij...\n",
            "18234                    \u0011\u0018Yìê\fkoãÕ»Î§DéÎ\u0002l½ñ¡ââqtò¸/à; Í\n",
            "18236    ruta89fm.com/images/AS@Vies/1i75cf7b16vc<F\u0015d16...\n",
            "                               ...                        \n",
            "96000              xbox360.ign.com/objects/850/850402.html\n",
            "96001         games.teamxbox.com/xbox-360/1860/Dead-Space/\n",
            "96002           www.gamespot.com/xbox360/action/deadspace/\n",
            "96003        en.wikipedia.org/wiki/Dead_Space_(video_game)\n",
            "96004            www.angelfire.com/goth/devilmaycrytonite/\n",
            "Name: URL, Length: 48103, dtype: object\n"
          ]
        }
      ]
    },
    {
      "cell_type": "code",
      "source": [
        "phishing_urls=list(phishing_urls)"
      ],
      "metadata": {
        "id": "DKrhBNwMJl0e"
      },
      "execution_count": 37,
      "outputs": []
    },
    {
      "cell_type": "code",
      "source": [
        "phishing_urls[99]"
      ],
      "metadata": {
        "colab": {
          "base_uri": "https://localhost:8080/",
          "height": 36
        },
        "id": "AmW_kWDVJpR-",
        "outputId": "1690a74c-0fd2-48d1-e3c2-9ab61929f576"
      },
      "execution_count": 42,
      "outputs": [
        {
          "output_type": "execute_result",
          "data": {
            "text/plain": [
              "'www.financialaccounting.com/financialprof.htm'"
            ],
            "application/vnd.google.colaboratory.intrinsic+json": {
              "type": "string"
            }
          },
          "metadata": {},
          "execution_count": 42
        }
      ]
    },
    {
      "cell_type": "code",
      "source": [
        "loss, accuracy = model.evaluate(X_test, y_test)"
      ],
      "metadata": {
        "colab": {
          "base_uri": "https://localhost:8080/"
        },
        "id": "KTrt3-_hCcoE",
        "outputId": "7ee43f45-ad31-463d-d2cd-a57c79e9bc78"
      },
      "execution_count": 44,
      "outputs": [
        {
          "output_type": "stream",
          "name": "stdout",
          "text": [
            "799/799 [==============================] - 6s 8ms/step - loss: 0.0775 - accuracy: 0.9701\n"
          ]
        }
      ]
    },
    {
      "cell_type": "code",
      "source": [
        "model.save('/content/Phising_model.h5')"
      ],
      "metadata": {
        "colab": {
          "base_uri": "https://localhost:8080/"
        },
        "id": "np84Z-o4FZQh",
        "outputId": "a7206144-3bdf-44ee-a1c6-499dca2bdde3"
      },
      "execution_count": 45,
      "outputs": [
        {
          "output_type": "stream",
          "name": "stderr",
          "text": [
            "/usr/local/lib/python3.10/dist-packages/keras/src/engine/training.py:3103: UserWarning: You are saving your model as an HDF5 file via `model.save()`. This file format is considered legacy. We recommend using instead the native Keras format, e.g. `model.save('my_model.keras')`.\n",
            "  saving_api.save_model(\n"
          ]
        }
      ]
    },
    {
      "cell_type": "code",
      "source": [],
      "metadata": {
        "id": "fZS5-AGRK2Jh"
      },
      "execution_count": null,
      "outputs": []
    }
  ]
}